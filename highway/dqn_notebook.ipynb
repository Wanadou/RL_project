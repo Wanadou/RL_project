{
 "cells": [
  {
   "cell_type": "markdown",
   "metadata": {},
   "source": [
    "## Imports and setup"
   ]
  },
  {
   "cell_type": "markdown",
   "metadata": {},
   "source": [
    "### Show initial state of environment"
   ]
  },
  {
   "cell_type": "code",
   "execution_count": 1,
   "metadata": {},
   "outputs": [
    {
     "name": "stdout",
     "output_type": "stream",
     "text": [
      "EnvSpec(id='highway-fast-v0', entry_point='highway_env.envs:HighwayEnvFast', reward_threshold=None, nondeterministic=False, max_episode_steps=None, order_enforce=True, autoreset=False, disable_env_checker=False, apply_api_compatibility=False, kwargs={'render_mode': 'rgb_array'}, namespace=None, name='highway-fast', version=0, additional_wrappers=(), vector_entry_point=None)\n",
      "{'action': {'acceleration_range': [-5, 5],\n",
      "            'dynamical': False,\n",
      "            'lateral': False,\n",
      "            'longitudinal': True,\n",
      "            'speed_range': [0, 10],\n",
      "            'steering_range': [-0.7853981633974483, 0.7853981633974483],\n",
      "            'type': 'DiscreteAction'},\n",
      " 'centering_position': [0.3, 0.5],\n",
      " 'collision_reward': -1,\n",
      " 'controlled_vehicles': 1,\n",
      " 'disable_collision_checks': True,\n",
      " 'duration': 40,\n",
      " 'ego_spacing': 1.5,\n",
      " 'high_speed_reward': 0.1,\n",
      " 'initial_lane_id': None,\n",
      " 'initial_spacing': 0,\n",
      " 'lane_change_reward': 0,\n",
      " 'lanes_count': 4,\n",
      " 'manual_control': False,\n",
      " 'normalize_reward': True,\n",
      " 'observation': {'absolute': False,\n",
      "                 'features': ['presence',\n",
      "                              'x',\n",
      "                              'y',\n",
      "                              'vx',\n",
      "                              'vy',\n",
      "                              'cos_h',\n",
      "                              'sin_h'],\n",
      "                 'features_range': {'vx': [-20, 20],\n",
      "                                    'vy': [-20, 20],\n",
      "                                    'x': [-100, 100],\n",
      "                                    'y': [-100, 100]},\n",
      "                 'grid_size': [[-20, 20], [-20, 20]],\n",
      "                 'grid_step': [5, 5],\n",
      "                 'type': 'OccupancyGrid',\n",
      "                 'vehicles_count': 3},\n",
      " 'offroad_terminal': False,\n",
      " 'offscreen_rendering': False,\n",
      " 'other_vehicles_type': 'highway_env.vehicle.behavior.IDMVehicle',\n",
      " 'policy_frequency': 1,\n",
      " 'real_time_rendering': False,\n",
      " 'render_agent': True,\n",
      " 'reward_speed_range': [20, 30],\n",
      " 'right_lane_reward': 0.5,\n",
      " 'scaling': 5.5,\n",
      " 'screen_height': 150,\n",
      " 'screen_width': 600,\n",
      " 'show_trajectories': False,\n",
      " 'simulation_frequency': 5,\n",
      " 'vehicles_count': 10,\n",
      " 'vehicles_density': 1}\n"
     ]
    },
    {
     "name": "stderr",
     "output_type": "stream",
     "text": [
      "C:\\Users\\axelv\\AppData\\Roaming\\Python\\Python311\\site-packages\\gymnasium\\core.py:311: UserWarning: \u001b[33mWARN: env.config to get variables from other wrappers is deprecated and will be removed in v1.0, to get this variable you can do `env.unwrapped.config` for environment variables or `env.get_wrapper_attr('config')` that will search the reminding wrappers.\u001b[0m\n",
      "  logger.warn(\n"
     ]
    }
   ],
   "source": [
    "from highway_config import *\n",
    "from dqn import *\n",
    "import pprint\n",
    "\n",
    "print(env.spec)\n",
    "pprint.pprint(env.config)"
   ]
  },
  {
   "cell_type": "code",
   "execution_count": 2,
   "metadata": {},
   "outputs": [
    {
     "name": "stdout",
     "output_type": "stream",
     "text": [
      "Action space: Discrete(3)\n",
      "Observation space: Box(-inf, inf, (7, 8, 8), float32)\n"
     ]
    },
    {
     "data": {
      "image/png": "[encoded data removed]",
      "text/plain": [
       "<Figure size 640x480 with 1 Axes>"
      ]
     },
     "metadata": {},
     "output_type": "display_data"
    }
   ],
   "source": [
    "action_space = env.action_space\n",
    "observation_space = env.observation_space\n",
    "\n",
    "print(f\"Action space: {action_space}\")\n",
    "print(f\"Observation space: {observation_space}\")\n",
    "\n",
    "plt.imshow(env.render())\n",
    "plt.show()"
   ]
  },
  {
   "cell_type": "markdown",
   "metadata": {},
   "source": [
    "The observation space corresponds to the information available to the agent at each step. It then chooses an action based on this information. In our case (Kinematics observations), this info is a grid of vehicles_count * n_features where each value corresponds to a feature of a particular vehicule (not including the ego-vehicule ?). This space is stored in a Box object defined by (lower bound, upper bound, (vehicles_count, n_features), numerical_type). Since this observation space is in 2D, we had to flatten this matrix before feeding it into the DQN.\n",
    "\n",
    "The action space is an integer that results from the available actions (longitudinal and/or lateral) and the quantization step (fixed by the parameter actions_per_axis). In the end there are actions_per_axis actions if only one of longiutdinal or lateral is True and actions_per_axis ** 2 if both are true."
   ]
  },
  {
   "cell_type": "markdown",
   "metadata": {},
   "source": [
    "## Utility functions"
   ]
  },
  {
   "cell_type": "code",
   "execution_count": 3,
   "metadata": {},
   "outputs": [],
   "source": [
    "def eval_agent(agent, env, n_sim=5):\n",
    "    \"\"\"\n",
    "    ** Solution **\n",
    "    \n",
    "    Monte Carlo evaluation of DQN agent.\n",
    "\n",
    "    Repeat n_sim times:\n",
    "        * Run the DQN policy until the environment reaches a terminal state (= one episode)\n",
    "        * Compute the sum of rewards in this episode\n",
    "        * Store the sum of rewards in the episode_rewards array.\n",
    "    \"\"\"\n",
    "    env_copy = deepcopy(env)\n",
    "    episode_rewards = np.zeros(n_sim)\n",
    "    for i in range(n_sim):\n",
    "        state, _ = env_copy.reset()\n",
    "        reward_sum = 0\n",
    "        done = False\n",
    "        while not done: \n",
    "            action = agent.get_action(state, 0)\n",
    "            state, reward, terminated, truncated, _ = env_copy.step(action)\n",
    "            reward_sum += reward\n",
    "            done = terminated or truncated\n",
    "        episode_rewards[i] = reward_sum\n",
    "    return episode_rewards\n",
    "\n",
    "def run_one_episode(env, agent, display=True):\n",
    "    display_env = deepcopy(env)\n",
    "    done = False\n",
    "    state, _ = display_env.reset()\n",
    "\n",
    "    rewards = 0\n",
    "\n",
    "    while not done:\n",
    "        action = agent.get_action(state, 0)\n",
    "        state, reward, done, _, _ = display_env.step(action)\n",
    "        rewards += reward\n",
    "        if display: \n",
    "            clear_output(wait=True)\n",
    "            plt.imshow(display_env.render())\n",
    "            plt.show()\n",
    "    if display:\n",
    "        display_env.close()\n",
    "    print(f'Episode length {rewards}')"
   ]
  },
  {
   "cell_type": "markdown",
   "metadata": {},
   "source": [
    "## Training a DQN on highway-env"
   ]
  },
  {
   "cell_type": "markdown",
   "metadata": {},
   "source": [
    "### Setup of the DQN agent and training loop"
   ]
  },
  {
   "cell_type": "code",
   "execution_count": 4,
   "metadata": {},
   "outputs": [
    {
     "name": "stdout",
     "output_type": "stream",
     "text": [
      "(<OrderEnforcing<PassiveEnvChecker<HighwayEnvFast<highway-fast-v0>>>>, 0.8, 32, 15000, 32, 0.8, 300, 0.02, 0.0005, 256)\n",
      "Q net: Net(\n",
      "  (net): Sequential(\n",
      "    (0): Linear(in_features=448, out_features=256, bias=True)\n",
      "    (1): ReLU()\n",
      "    (2): Linear(in_features=256, out_features=256, bias=True)\n",
      "    (3): ReLU()\n",
      "    (4): Linear(in_features=256, out_features=3, bias=True)\n",
      "  )\n",
      ")\n"
     ]
    }
   ],
   "source": [
    "gamma = 0.8\n",
    "batch_size = 32\n",
    "buffer_capacity = 15_000\n",
    "update_target_every = 32\n",
    "\n",
    "epsilon_start = 0.8\n",
    "decrease_epsilon_factor = 300\n",
    "epsilon_min = 0.02\n",
    "\n",
    "hidden_size = 256\n",
    "\n",
    "learning_rate = 5e-4\n",
    "\n",
    "arguments = (env,\n",
    "            gamma,\n",
    "            batch_size,\n",
    "            buffer_capacity,\n",
    "            update_target_every, \n",
    "            epsilon_start, \n",
    "            decrease_epsilon_factor, \n",
    "            epsilon_min,\n",
    "            learning_rate,\n",
    "            hidden_size\n",
    "        )\n",
    "\n",
    "print(arguments)\n",
    "\n",
    "agent = DQN(*arguments)\n",
    "\n",
    "def train(env, agent, N_episodes, eval_every=10, reward_threshold=300):\n",
    "    total_time = 0\n",
    "    state, _ = env.reset()\n",
    "    losses = []\n",
    "    training_rewards = []\n",
    "    for ep in range(N_episodes):\n",
    "        done = False\n",
    "        state, _ = env.reset()\n",
    "        while not done: \n",
    "            # print(f\"State shape: {state.shape}\")\n",
    "            action = agent.get_action(state)\n",
    "            # print(f\"Action: {action}\")\n",
    "\n",
    "            next_state, reward, terminated, truncated, _ = env.step(action)\n",
    "            loss_val = agent.update(state, action, reward, terminated, next_state)\n",
    "\n",
    "            state = next_state\n",
    "            losses.append(loss_val)\n",
    "\n",
    "            done = terminated or truncated\n",
    "            total_time += 1\n",
    "\n",
    "        if ((ep+1)% eval_every == 0):\n",
    "            rewards = eval_agent(agent, env, n_sim=5)\n",
    "            print(\"episode =\", ep+1, \", reward = \", np.mean(rewards))\n",
    "            training_rewards.append(np.mean(rewards))\n",
    "            if np.mean(rewards) >= reward_threshold:\n",
    "                break\n",
    "                \n",
    "    return losses, training_rewards"
   ]
  },
  {
   "cell_type": "markdown",
   "metadata": {},
   "source": [
    "### Run the training loop and evaluate agent"
   ]
  },
  {
   "cell_type": "code",
   "execution_count": 5,
   "metadata": {},
   "outputs": [
    {
     "name": "stdout",
     "output_type": "stream",
     "text": [
      "episode = 10 , reward =  27.03341666666667\n",
      "episode = 20 , reward =  8.782716666666667\n",
      "episode = 30 , reward =  16.336016666666666\n",
      "episode = 40 , reward =  7.695833333333333\n",
      "episode = 50 , reward =  15.04583333333333\n",
      "episode = 60 , reward =  17.052833333333332\n",
      "episode = 70 , reward =  32.5625\n",
      "episode = 80 , reward =  10.827833333333336\n",
      "episode = 90 , reward =  8.239293333333332\n",
      "episode = 100 , reward =  10.5\n",
      "episode = 110 , reward =  10.62575\n",
      "episode = 120 , reward =  30.852083333333326\n",
      "episode = 130 , reward =  10.7625\n",
      "episode = 140 , reward =  20.88444533333334\n",
      "episode = 150 , reward =  11.477083333333331\n",
      "episode = 160 , reward =  14.047916666666666\n",
      "episode = 170 , reward =  22.65833333333333\n",
      "episode = 180 , reward =  27.020283333333328\n",
      "episode = 190 , reward =  32.85624999999999\n",
      "episode = 200 , reward =  13.766666666666666\n",
      "episode = 210 , reward =  21.796333333333337\n",
      "episode = 220 , reward =  18.16096666666666\n",
      "episode = 230 , reward =  16.27226013333333\n",
      "episode = 240 , reward =  16.666666666666664\n",
      "episode = 250 , reward =  11.647916666666669\n",
      "episode = 260 , reward =  32.80625\n",
      "episode = 270 , reward =  19.132083333333338\n",
      "episode = 280 , reward =  25.06875\n",
      "episode = 290 , reward =  11.977083333333335\n",
      "episode = 300 , reward =  23.508833333333335\n",
      "episode = 310 , reward =  12.025\n",
      "episode = 320 , reward =  12.979166666666666\n",
      "episode = 330 , reward =  14.491666666666665\n",
      "episode = 340 , reward =  8.88725\n",
      "episode = 350 , reward =  10.88125\n",
      "episode = 360 , reward =  13.095583333333337\n",
      "episode = 370 , reward =  30.82391666666667\n",
      "episode = 380 , reward =  17.147916666666667\n",
      "episode = 390 , reward =  13.105083333333335\n",
      "episode = 400 , reward =  33.939583333333324\n",
      "episode = 410 , reward =  30.933333333333337\n",
      "episode = 420 , reward =  22.438283333333338\n",
      "episode = 430 , reward =  18.361166666666666\n",
      "episode = 440 , reward =  15.347916666666663\n",
      "episode = 450 , reward =  17.452083333333334\n",
      "episode = 460 , reward =  28.26\n",
      "episode = 470 , reward =  27.84583333333333\n",
      "episode = 480 , reward =  22.1875\n",
      "episode = 490 , reward =  13.245833333333332\n",
      "episode = 500 , reward =  27.139583333333338\n",
      "episode = 510 , reward =  12.816666666666666\n",
      "episode = 520 , reward =  26.74791666666666\n",
      "episode = 530 , reward =  27.823500000000003\n",
      "episode = 540 , reward =  36.672916666666666\n",
      "episode = 550 , reward =  31.891666666666662\n",
      "episode = 560 , reward =  29.433766666666656\n",
      "episode = 570 , reward =  17.076200000000007\n",
      "episode = 580 , reward =  11.425499999999996\n",
      "episode = 590 , reward =  14.783333333333328\n",
      "episode = 600 , reward =  17.9244\n",
      "episode = 610 , reward =  12.470833333333331\n",
      "episode = 620 , reward =  7.941928666666667\n",
      "episode = 630 , reward =  31.741666666666674\n",
      "episode = 640 , reward =  29.527083333333326\n",
      "episode = 650 , reward =  26.051833333333338\n",
      "episode = 660 , reward =  33.545833333333334\n",
      "episode = 670 , reward =  26.625676799999997\n",
      "episode = 680 , reward =  19.120833333333337\n",
      "episode = 690 , reward =  19.541362000000003\n",
      "episode = 700 , reward =  18.306250000000002\n",
      "episode = 710 , reward =  16.420833333333338\n",
      "episode = 720 , reward =  27.443066666666674\n",
      "episode = 730 , reward =  16.101233333333337\n",
      "episode = 740 , reward =  14.177083333333334\n",
      "episode = 750 , reward =  11.256249999999998\n",
      "episode = 760 , reward =  14.879195333333334\n",
      "episode = 770 , reward =  14.814528666666664\n",
      "episode = 780 , reward =  20.054749999999995\n",
      "episode = 790 , reward =  13.463893333333331\n",
      "episode = 800 , reward =  33.20208333333333\n",
      "episode = 810 , reward =  20.07291666666667\n",
      "episode = 820 , reward =  27.189583333333324\n",
      "episode = 830 , reward =  8.273178666666666\n",
      "episode = 840 , reward =  27.814583333333324\n",
      "episode = 850 , reward =  10.479166666666666\n",
      "episode = 860 , reward =  13.932188799999997\n",
      "episode = 870 , reward =  23.57875\n",
      "episode = 880 , reward =  26.942500000000006\n",
      "episode = 890 , reward =  30.475\n",
      "episode = 900 , reward =  22.035416666666663\n",
      "episode = 910 , reward =  11.541666666666666\n",
      "episode = 920 , reward =  9.625\n",
      "episode = 930 , reward =  12.618011999999998\n",
      "episode = 940 , reward =  10.125\n",
      "episode = 950 , reward =  22.771426666666663\n",
      "episode = 960 , reward =  18.33665\n",
      "episode = 970 , reward =  11.723057333333333\n",
      "episode = 980 , reward =  17.70643333333333\n",
      "episode = 990 , reward =  23.287500000000005\n",
      "episode = 1000 , reward =  21.743750000000006\n",
      "episode = 1010 , reward =  11.958333333333334\n",
      "episode = 1020 , reward =  25.789583333333336\n",
      "episode = 1030 , reward =  11.570833333333335\n",
      "episode = 1040 , reward =  20.40416666666666\n",
      "episode = 1050 , reward =  16.11875\n",
      "episode = 1060 , reward =  21.687499999999996\n",
      "episode = 1070 , reward =  22.77708333333333\n",
      "episode = 1080 , reward =  31.929166666666674\n",
      "episode = 1090 , reward =  20.175\n",
      "episode = 1100 , reward =  14.603976666666664\n",
      "episode = 1110 , reward =  21.389583333333327\n",
      "episode = 1120 , reward =  29.31041666666666\n",
      "episode = 1130 , reward =  16.2185\n",
      "episode = 1140 , reward =  23.63125\n",
      "episode = 1150 , reward =  33.01874999999999\n",
      "episode = 1160 , reward =  14.170833333333338\n",
      "episode = 1170 , reward =  16.810416666666665\n",
      "episode = 1180 , reward =  33.95833333333332\n",
      "episode = 1190 , reward =  16.49375\n",
      "episode = 1200 , reward =  22.27774999999999\n"
     ]
    },
    {
     "data": {
      "image/png": "[encoded data removed]",
      "text/plain": [
       "<Figure size 640x480 with 1 Axes>"
      ]
     },
     "metadata": {},
     "output_type": "display_data"
    },
    {
     "data": {
      "image/png": "[encoded data removed]",
      "text/plain": [
       "<Figure size 640x480 with 1 Axes>"
      ]
     },
     "metadata": {},
     "output_type": "display_data"
    },
    {
     "name": "stdout",
     "output_type": "stream",
     "text": [
      "Model saved to trained_highway_agent.pth\n",
      "\n",
      "rewards after training =  [ 5.2325     33.61458333  4.125      34.05208333 34.36458333 30.38541667\n",
      " 37.96875     1.34375     3.21875    37.6875      2.8125     15.6905\n",
      "  7.22916667  3.4375     30.41666667 37.96875    37.84375    38.9375\n",
      " 30.51041667  2.0875    ]\n",
      "mean reward after training =  21.446358333333333\n"
     ]
    }
   ],
   "source": [
    "# Run the training loop and save the state of the agent\n",
    "N_episodes = 1200\n",
    "losses, training_rewards = train(env, agent, N_episodes)\n",
    "plt.plot(losses)\n",
    "plt.show()\n",
    "plt.plot(training_rewards)\n",
    "plt.show()\n",
    "agent.save_state(\"trained_highway_agent.pth\")\n",
    "\n",
    "# Or load the state\n",
    "# agent.load_state(\"trained_highway_agent.pth\")\n",
    "\n",
    "# Evaluate the final policy\n",
    "rewards = eval_agent(agent, env, 20)\n",
    "print(\"\")\n",
    "print(\"rewards after training = \", rewards)\n",
    "print(\"mean reward after training = \", np.mean(rewards))"
   ]
  },
  {
   "cell_type": "markdown",
   "metadata": {},
   "source": [
    "## Vizualisations"
   ]
  },
  {
   "cell_type": "markdown",
   "metadata": {},
   "source": [
    "### Show trained agent over one episode"
   ]
  },
  {
   "cell_type": "code",
   "execution_count": 6,
   "metadata": {},
   "outputs": [],
   "source": [
    "# os.environ[\"SDL_VIDEODRIVER\"] = \"dummy\"\n",
    "# from IPython.display import clear_output\n",
    "\n",
    "# run_one_episode(env, agent, display=True)"
   ]
  },
  {
   "cell_type": "markdown",
   "metadata": {},
   "source": [
    "### Save video of trained agent"
   ]
  },
  {
   "cell_type": "code",
   "execution_count": 7,
   "metadata": {},
   "outputs": [],
   "source": [
    "from matplotlib import pyplot as plt\n",
    "from matplotlib.animation import FuncAnimation\n",
    "from IPython.display import HTML, display, clear_output\n",
    "import gymnasium as gym\n",
    "import numpy as np\n",
    "from copy import deepcopy\n",
    "\n",
    "def run_one_episode_and_save(env, agent, to_display=True, save_video=True, max_steps=100):\n",
    "    display_env = deepcopy(env)  # Create a deep copy of the environment for isolated manipulation\n",
    "    state, _ = display_env.reset()\n",
    "    frames = []  # Store frames for animation\n",
    "    rewards = 0\n",
    "    step = 0\n",
    "\n",
    "    done = False\n",
    "    while not done:\n",
    "        if to_display:\n",
    "            clear_output(wait=True)\n",
    "            # Render the frame and store for video creation\n",
    "            frame = display_env.render()\n",
    "            frames.append(frame)\n",
    "            plt.imshow(frame)\n",
    "            plt.axis('off')  # Hide axes for clean display\n",
    "            plt.show()\n",
    "\n",
    "        # Execute the agent's policy\n",
    "        action = agent.get_action(state, 0)  # Assuming get_action accepts state and epsilon, adjust if different\n",
    "        state, reward, done, _, _ = display_env.step(action)\n",
    "        rewards += reward\n",
    "        step += 1\n",
    "        if step > max_steps:\n",
    "            done = True\n",
    "        \n",
    "\n",
    "    if to_display:\n",
    "        print(f'Episode length: {rewards}')\n",
    "\n",
    "    # If requested to save the video, proceed with saving\n",
    "    if save_video:\n",
    "        fig, ax = plt.subplots()\n",
    "        img_ax = ax.imshow(frames[0])  # Show the first frame\n",
    "        ax.axis('off')  # Hide axes\n",
    "\n",
    "        def update(frame):\n",
    "            img_ax.set_data(frame)  # Update the image displayed\n",
    "\n",
    "        ani = FuncAnimation(fig, update, frames=frames, repeat=False)\n",
    "\n",
    "        # Save the animation as MP4\n",
    "        video_filename = 'trained_agent_simulation.mp4'\n",
    "        ani.save(video_filename, writer='ffmpeg', fps=10)\n",
    "\n",
    "        # Optionally display the animation within the notebook\n",
    "        plt.close(fig)  # Close the figure to prevent it from displaying now\n",
    "        if to_display:\n",
    "            video_tag = f'<video src=\"{video_filename}\" width=\"100%\" controls loop autoplay>'\n",
    "            display(HTML(video_tag))\n",
    "\n",
    "    if to_display:\n",
    "        display_env.close()  # Properly close the environment when done\n"
   ]
  },
  {
   "cell_type": "code",
   "execution_count": 11,
   "metadata": {},
   "outputs": [
    {
     "data": {
      "image/png": "[encoded data removed]",
      "text/plain": [
       "<Figure size 640x480 with 1 Axes>"
      ]
     },
     "metadata": {},
     "output_type": "display_data"
    },
    {
     "name": "stdout",
     "output_type": "stream",
     "text": [
      "Episode length: 5.2325\n"
     ]
    },
    {
     "data": {
      "text/html": [
       "<video src=\"trained_agent_simulation.mp4\" width=\"100%\" controls loop autoplay>"
      ],
      "text/plain": [
       "<IPython.core.display.HTML object>"
      ]
     },
     "metadata": {},
     "output_type": "display_data"
    }
   ],
   "source": [
    "# simulate the trained agent and save the video\n",
    "run_one_episode_and_save(env, agent, to_display=True, save_video=True)"
   ]
  },
  {
   "cell_type": "code",
   "execution_count": 9,
   "metadata": {},
   "outputs": [],
   "source": [
    "# import base64\n",
    "# from pathlib import Path\n",
    "\n",
    "# from gymnasium.wrappers import RecordVideo\n",
    "# from IPython import display as ipythondisplay\n",
    "# from pyvirtualdisplay import Display\n",
    "\n",
    "# display = Display(visible=0, size=(1400, 900))\n",
    "# display.start()\n",
    "\n",
    "\n",
    "# def record_videos(env, video_folder=\"videos\"):\n",
    "#     wrapped = RecordVideo(\n",
    "#         env, video_folder=video_folder, episode_trigger=lambda e: True\n",
    "#     )\n",
    "\n",
    "#     # Capture intermediate frames\n",
    "#     env.unwrapped.set_record_video_wrapper(wrapped)\n",
    "\n",
    "#     return wrapped\n",
    "\n",
    "\n",
    "# def show_videos(path=\"videos\"):\n",
    "#     html = []\n",
    "#     for mp4 in Path(path).glob(\"*.mp4\"):\n",
    "#         video_b64 = base64.b64encode(mp4.read_bytes())\n",
    "#         html.append(\n",
    "#             \"\"\"<video alt=\"{}\" autoplay\n",
    "#                       loop controls style=\"height: 400px;\">\n",
    "#                       <source src=\"data:video/mp4;base64,{}\" type=\"video/mp4\" />\n",
    "#                  </video>\"\"\".format(\n",
    "#                 mp4, video_b64.decode(\"ascii\")\n",
    "#             )\n",
    "#         )\n",
    "#     ipythondisplay.display(ipythondisplay.HTML(data=\"<br>\".join(html)))"
   ]
  },
  {
   "cell_type": "code",
   "execution_count": 10,
   "metadata": {},
   "outputs": [],
   "source": [
    "# env = record_videos(env)\n",
    "# (obs, info), done = env.reset(), False\n",
    "# print(env.action_space)\n",
    "# for episode in range(100):\n",
    "#     action = agent.get_action(obs)\n",
    "#     print(f'Action: {action}')\n",
    "#     env.step(action)\n",
    "\n",
    "# env.close()\n",
    "# show_videos()\n",
    "\n",
    "\n",
    "# show_videos()\n",
    "# plt.imshow(env.render())\n",
    "# plt.show()\n"
   ]
  }
 ],
 "metadata": {
  "kernelspec": {
   "display_name": "RL",
   "language": "python",
   "name": "python3"
  },
  "language_info": {
   "codemirror_mode": {
    "name": "ipython",
    "version": 3
   },
   "file_extension": ".py",
   "mimetype": "text/x-python",
   "name": "python",
   "nbconvert_exporter": "python",
   "pygments_lexer": "ipython3",
   "version": "3.11.5"
  }
 },
 "nbformat": 4,
 "nbformat_minor": 2
}
