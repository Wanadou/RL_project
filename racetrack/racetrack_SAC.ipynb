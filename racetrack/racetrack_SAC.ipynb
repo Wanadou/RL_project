{
 "cells": [
  {
   "cell_type": "code",
   "execution_count": null,
   "metadata": {},
   "outputs": [],
   "source": [
    "from stable_baselines3 import SAC\n",
    "import gymnasium as gym"
   ]
  },
  {
   "cell_type": "code",
   "execution_count": null,
   "metadata": {},
   "outputs": [],
   "source": [
    "env = gym.make('racetrack-v0', render_mode='rgb_array')\n",
    "\n",
    "model = SAC('MlpPolicy', env,verbose=2)\n",
    "model.learn(int(2e5))"
   ]
  },
  {
   "cell_type": "markdown",
   "metadata": {},
   "source": [
    "## SAC with another reward on road"
   ]
  },
  {
   "cell_type": "code",
   "execution_count": null,
   "metadata": {},
   "outputs": [],
   "source": [
    "from highway_env.envs import RacetrackEnv\n",
    "import numpy as np\n",
    "from typing import Dict, Text\n",
    "\n",
    "    \n",
    "class RacetrackRewardOnRoad(RacetrackEnv):\n",
    "    def _rewards(self) -> Dict[Text, float]:\n",
    "        return {\n",
    "            \"on_road_reward\": self.vehicle.on_road,\n",
    "        }"
   ]
  },
  {
   "cell_type": "code",
   "execution_count": null,
   "metadata": {},
   "outputs": [],
   "source": [
    "# Configure racetrack environnment\n",
    "config = {\n",
    "    \"observation\": {\n",
    "        \"type\": \"OccupancyGrid\",\n",
    "        \"features\": [\"presence\", \"on_road\"],\n",
    "        \"grid_size\": [[-18, 18], [-18, 18]],\n",
    "        \"grid_step\": [5, 5],\n",
    "        \"as_image\": False,\n",
    "        \"align_to_vehicle_axes\": True\n",
    "    },\n",
    "    \"action\": {\n",
    "        \"type\": \"ContinuousAction\",\n",
    "        \"longitudinal\": False,\n",
    "        \"lateral\": True,\n",
    "        \"steering_range\": [-np.pi / 4, np.pi / 4],  # [rad]\n",
    "        #\"acceleration_range\": [-2, 2],  # [m/s²]\n",
    "        \"speed_range\": [0, 15],  # [m/s]\n",
    "    },\n",
    "    \"simulation_frequency\": 15,\n",
    "    \"policy_frequency\": 5,\n",
    "    \"duration\": 300,\n",
    "    \"collision_reward\": -1,\n",
    "    \"lane_centering_cost\": 4,\n",
    "    \"action_reward\": -0.3,\n",
    "    \"controlled_vehicles\": 1,\n",
    "    \"other_vehicles\": 1,\n",
    "    \"screen_width\": 600,\n",
    "    \"screen_height\": 600,\n",
    "    \"centering_position\": [0.5, 0.5],\n",
    "    \"scaling\": 7,\n",
    "    \"show_trajectories\": False,\n",
    "    \"render_agent\": True,\n",
    "    \"offscreen_rendering\": False\n",
    "}\n",
    "\n",
    "\n",
    "env_modified = RacetrackRewardOnRoad(config)"
   ]
  },
  {
   "cell_type": "code",
   "execution_count": null,
   "metadata": {},
   "outputs": [],
   "source": [
    "\n",
    "model = SAC('MlpPolicy', env_modified,verbose=2)\n",
    "model.learn(int(2e5))"
   ]
  }
 ],
 "metadata": {
  "kernelspec": {
   "display_name": "rl_py311",
   "language": "python",
   "name": "python3"
  },
  "language_info": {
   "codemirror_mode": {
    "name": "ipython",
    "version": 3
   },
   "file_extension": ".py",
   "mimetype": "text/x-python",
   "name": "python",
   "nbconvert_exporter": "python",
   "pygments_lexer": "ipython3",
   "version": "3.11.8"
  }
 },
 "nbformat": 4,
 "nbformat_minor": 2
}
